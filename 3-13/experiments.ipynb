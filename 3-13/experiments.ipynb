{
 "cells": [
  {
   "cell_type": "code",
   "execution_count": 83,
   "metadata": {},
   "outputs": [],
   "source": [
    "import platform \n",
    "\n",
    "import pandas as pd\n",
    "import numpy as np\n",
    "import os\n",
    "import matplotlib.pyplot as plt\n",
    "import matplotlib.pylab as pylab\n",
    "import seaborn as sns\n",
    "from tqdm import tqdm"
   ]
  },
  {
   "cell_type": "code",
   "execution_count": 84,
   "metadata": {},
   "outputs": [],
   "source": [
    "import matplotlib.font_manager"
   ]
  },
  {
   "cell_type": "code",
   "execution_count": 96,
   "metadata": {},
   "outputs": [],
   "source": [
    "from sklearn.model_selection import RepeatedStratifiedKFold\n",
    "from sklearn.preprocessing import MinMaxScaler, StandardScaler, RobustScaler\n",
    "from sklearn.pipeline import Pipeline\n",
    "from sklearn.preprocessing import OrdinalEncoder"
   ]
  },
  {
   "cell_type": "code",
   "execution_count": 86,
   "metadata": {},
   "outputs": [],
   "source": [
    "from sklearn.feature_selection import chi2, RFECV"
   ]
  },
  {
   "cell_type": "code",
   "execution_count": 87,
   "metadata": {},
   "outputs": [],
   "source": [
    "import optuna"
   ]
  },
  {
   "cell_type": "code",
   "execution_count": 88,
   "metadata": {},
   "outputs": [],
   "source": [
    "import xgboost as xgb\n",
    "import lightgbm as lgb\n",
    "import catboost as ctb\n",
    "\n",
    "from sklearn.linear_model import LogisticRegression\n",
    "from sklearn.naive_bayes import BernoulliNB\n",
    "\n",
    "\n",
    "\n",
    "if platform.processor() == 'arm':\n",
    "    from sklearn.svm import SVC\n",
    "    from sklearn.neighbors import KNeighborsClassifier\n",
    "else:\n",
    "    from cuml.svm import SVC\n",
    "    from cuml.neighbors import KNeighborsClassifier"
   ]
  },
  {
   "cell_type": "code",
   "execution_count": 89,
   "metadata": {},
   "outputs": [],
   "source": [
    "import mlflow"
   ]
  },
  {
   "cell_type": "code",
   "execution_count": 90,
   "metadata": {},
   "outputs": [],
   "source": [
    "plot_params = {\n",
    "    'font.family': 'serif',\n",
    "    'font.weight': 'light',\n",
    "    \n",
    "    'figure.figsize': (5,5),\n",
    "    'figure.frameon': False, \n",
    "    'figure.titlesize': 'xx-large',\n",
    "    'figure.titleweight': 'normal',\n",
    "    \n",
    "    'axes.titlesize': 'large',\n",
    "    'axes.titlecolor': 'black',\n",
    "    'axes.titleweight': 'normal',\n",
    "    'axes.titlelocation': 'center',\n",
    "    'axes.labelsize': 'x-large',\n",
    "    \n",
    "    'grid.alpha': .25, \n",
    "    'legend.frameon':False,\n",
    "    'xtick.labelsize': 'x-large',\n",
    "    'ytick.labelsize': 'x-large',\n",
    "}\n",
    "\n",
    "pylab.rcParams.update(plot_params)\n",
    "sns.set_palette('mako')"
   ]
  },
  {
   "cell_type": "code",
   "execution_count": 91,
   "metadata": {},
   "outputs": [],
   "source": [
    "RANDOM_STATE = 7"
   ]
  },
  {
   "cell_type": "code",
   "execution_count": 92,
   "metadata": {},
   "outputs": [],
   "source": [
    "data_folder = 'data'\n",
    "train_data_fname = 'train.csv'\n",
    "test_data_fname = 'test.csv'\n",
    "external_data_fname = 'external_data.csv'\n",
    "sample_submission_fname = 'sample_submission.csv'\n",
    "\n",
    "\n",
    "train_data_path = os.path.join(data_folder, train_data_fname)\n",
    "test_data_path = os.path.join(data_folder, test_data_fname)\n",
    "external_data_path = os.path.join(data_folder, external_data_fname)\n",
    "sample_data_path = os.path.join(data_folder, sample_submission_fname)\n",
    "\n",
    "train_data = pd.read_csv(train_data_path)\n",
    "test_data = pd.read_csv(test_data_path)\n",
    "external_data = pd.read_csv(external_data_path)\n",
    "sample_data = pd.read_csv(sample_data_path)"
   ]
  },
  {
   "cell_type": "code",
   "execution_count": 93,
   "metadata": {},
   "outputs": [],
   "source": [
    "# set(external_data.columns.tolist()).difference(train_data.columns.tolist())"
   ]
  },
  {
   "cell_type": "code",
   "execution_count": 94,
   "metadata": {},
   "outputs": [
    {
     "name": "stdout",
     "output_type": "stream",
     "text": [
      "(707, 66)\n",
      "(252, 66)\n",
      "New train shape: \t(959, 66)\n",
      "Unique targets: \t11\n"
     ]
    }
   ],
   "source": [
    "train_data.drop(['id'], axis = 1, inplace=True)\n",
    "\n",
    "train_data['is_external_data'] = 0\n",
    "external_data['is_external_data'] = 1\n",
    "external_data.prognosis = external_data.prognosis.str.replace(' ', '_')\n",
    "print(train_data.shape)\n",
    "print(external_data.shape)\n",
    "\n",
    "train_data =  pd.concat([train_data, external_data])\n",
    "print(f\"New train shape: \\t{train_data.shape}\")\n",
    "print(f\"Unique targets: \\t{train_data.prognosis.nunique()}\")\n",
    "\n",
    "# Add is_external_data column to the test set\n",
    "test_data['is_external_data'] = 0\n"
   ]
  },
  {
   "cell_type": "code",
   "execution_count": 109,
   "metadata": {},
   "outputs": [],
   "source": [
    "X, Y = train_data.drop(['prognosis'], axis = 1), train_data[['prognosis']]\n",
    "target_encoder = OrdinalEncoder()\n",
    "Y = target_encoder.fit_transform(Y)"
   ]
  },
  {
   "cell_type": "code",
   "execution_count": 110,
   "metadata": {},
   "outputs": [
    {
     "data": {
      "text/plain": [
       "(959, 1)"
      ]
     },
     "execution_count": 110,
     "metadata": {},
     "output_type": "execute_result"
    }
   ],
   "source": [
    "Y.shape"
   ]
  },
  {
   "cell_type": "code",
   "execution_count": null,
   "metadata": {},
   "outputs": [],
   "source": [
    "# \n",
    "\n",
    "def generate_predictions(y_proba,  encoder):\n",
    "    \"\"\"\"\"\"\n",
    "    top_predictions = np.argsort(-y_proba, axis=1)\n",
    "    top_3_predictions = top_3_predictions[:,:3]\n",
    "\n",
    "    original_shape = top_3_predictions.shape\n",
    "    top_3_predictions_labels = encoder.inverse_transform(top_3_predictions.reshape(-1,1))\n",
    "    top_3_predictions_labels = top_3_predictions_labels.reshape(original_shape)\n",
    "\n",
    "\n",
    "def ap_k(y_true, y_pred):\n",
    "    \"\"\"\"\"\"\n",
    "    "
   ]
  },
  {
   "cell_type": "code",
   "execution_count": null,
   "metadata": {},
   "outputs": [],
   "source": []
  }
 ],
 "metadata": {
  "kernelspec": {
   "display_name": "rapids@22.12",
   "language": "python",
   "name": "python3"
  },
  "language_info": {
   "codemirror_mode": {
    "name": "ipython",
    "version": 3
   },
   "file_extension": ".py",
   "mimetype": "text/x-python",
   "name": "python",
   "nbconvert_exporter": "python",
   "pygments_lexer": "ipython3",
   "version": "3.9.15"
  },
  "orig_nbformat": 4
 },
 "nbformat": 4,
 "nbformat_minor": 2
}
